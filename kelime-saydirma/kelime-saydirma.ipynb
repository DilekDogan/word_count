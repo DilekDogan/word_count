{
 "cells": [
  {
   "cell_type": "code",
   "execution_count": 10,
   "metadata": {},
   "outputs": [
    {
     "name": "stdout",
     "output_type": "stream",
     "text": [
      "['lorem', 'lorem', 'amet,lorem', 'lorem', 'lorem']\n",
      "'lorem' kelimesi 5 kez geçiyor.\n"
     ]
    }
   ],
   "source": [
    "def lorem(str):\n",
    "    words = str.split()\n",
    "    lorem_words = []\n",
    "    for i in words:\n",
    "        clear_words = i.strip(\".,!\").lower()\n",
    "        if \"lorem\" in clear_words:\n",
    "            lorem_words.append(clear_words)\n",
    "    return lorem_words\n",
    "\n",
    "string1 = \"LoREm !lorem ipsum dolor sit amet,Lorem consectetur adipiscing elit. Mauris quis iaculis lOrem dolor. Quisque id nisl tristique nisl consequat ultricies eu tristique dolor. Pellentesque egestas velit sit amet justo euismod feugiat. Nunc in leo sapien. Suspendisse purus lorem, scelerisque in sagittis sed, cursus id ex. Vivamus euismod mollis velit non mollis. Suspendisse a turpis eu nibh lacinia maximus.\"\n",
    "lorem_words = lorem(string1)\n",
    "print(lorem_words)\n",
    "print(f\"'lorem' kelimesi {len(lorem_words)} kez geçiyor.\")\n"
   ]
  },
  {
   "cell_type": "code",
   "execution_count": null,
   "metadata": {},
   "outputs": [],
   "source": []
  }
 ],
 "metadata": {
  "kernelspec": {
   "display_name": "base",
   "language": "python",
   "name": "python3"
  },
  "language_info": {
   "codemirror_mode": {
    "name": "ipython",
    "version": 3
   },
   "file_extension": ".py",
   "mimetype": "text/x-python",
   "name": "python",
   "nbconvert_exporter": "python",
   "pygments_lexer": "ipython3",
   "version": "3.11.5"
  }
 },
 "nbformat": 4,
 "nbformat_minor": 2
}
